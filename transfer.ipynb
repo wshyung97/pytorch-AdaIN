{
 "cells": [
  {
   "cell_type": "code",
   "execution_count": 5,
   "metadata": {},
   "outputs": [
    {
     "name": "stdout",
     "output_type": "stream",
     "text": [
      "Sun Jun 20 14:08:10 2021       \n",
      "+-----------------------------------------------------------------------------+\n",
      "| NVIDIA-SMI 460.80       Driver Version: 460.80       CUDA Version: 11.2     |\n",
      "|-------------------------------+----------------------+----------------------+\n",
      "| GPU  Name        Persistence-M| Bus-Id        Disp.A | Volatile Uncorr. ECC |\n",
      "| Fan  Temp  Perf  Pwr:Usage/Cap|         Memory-Usage | GPU-Util  Compute M. |\n",
      "|                               |                      |               MIG M. |\n",
      "|===============================+======================+======================|\n",
      "|   0  TITAN RTX           Off  | 00000000:19:00.0 Off |                  N/A |\n",
      "| 41%   28C    P8    13W / 280W |   1954MiB / 24220MiB |      0%      Default |\n",
      "|                               |                      |                  N/A |\n",
      "+-------------------------------+----------------------+----------------------+\n",
      "|   1  TITAN RTX           Off  | 00000000:1A:00.0 Off |                  N/A |\n",
      "| 41%   29C    P8    15W / 280W |      8MiB / 24220MiB |      0%      Default |\n",
      "|                               |                      |                  N/A |\n",
      "+-------------------------------+----------------------+----------------------+\n",
      "|   2  TITAN RTX           Off  | 00000000:67:00.0 Off |                  N/A |\n",
      "| 41%   31C    P8    14W / 280W |      8MiB / 24220MiB |      0%      Default |\n",
      "|                               |                      |                  N/A |\n",
      "+-------------------------------+----------------------+----------------------+\n",
      "|   3  TITAN RTX           Off  | 00000000:68:00.0 Off |                  N/A |\n",
      "| 41%   31C    P8    15W / 280W |     42MiB / 24217MiB |      0%      Default |\n",
      "|                               |                      |                  N/A |\n",
      "+-------------------------------+----------------------+----------------------+\n",
      "                                                                               \n",
      "+-----------------------------------------------------------------------------+\n",
      "| Processes:                                                                  |\n",
      "|  GPU   GI   CI        PID   Type   Process name                  GPU Memory |\n",
      "|        ID   ID                                                   Usage      |\n",
      "|=============================================================================|\n",
      "|    3   N/A  N/A      1636      G   /usr/local/bin/python               9MiB |\n",
      "+-----------------------------------------------------------------------------+\n"
     ]
    }
   ],
   "source": [
    "!nvidia-smi"
   ]
  },
  {
   "cell_type": "code",
   "execution_count": 1,
   "metadata": {},
   "outputs": [
    {
     "name": "stdout",
     "output_type": "stream",
     "text": [
      "env: CUDA_DEVICE_ORDER=PCI_BUS_ID\n",
      "env: CUDA_VISIBLE_DEVICES=0, 1, 2, 3\n"
     ]
    }
   ],
   "source": [
    "%env CUDA_DEVICE_ORDER=PCI_BUS_ID\n",
    "%env CUDA_VISIBLE_DEVICES=0, 1, 2, 3"
   ]
  },
  {
   "cell_type": "code",
   "execution_count": 64,
   "metadata": {},
   "outputs": [
    {
     "name": "stderr",
     "output_type": "stream",
     "text": [
      "100%|██████████| 9000/9000 [23:37<00:00,  6.35it/s]\n"
     ]
    }
   ],
   "source": [
    "%run train.py --content_dir /notebooks/wsh_final/data/asl_alphabet_train/asl_alphabet_train/nothing --style_dir /notebooks/wsh_final/data/asl_alphabet_train/asl_alphabet_train/nothing"
   ]
  },
  {
   "cell_type": "code",
   "execution_count": 38,
   "metadata": {},
   "outputs": [
    {
     "name": "stderr",
     "output_type": "stream",
     "text": [
      "100%|██████████| 9000/9000 [23:40<00:00,  6.34it/s]\n"
     ]
    }
   ],
   "source": [
    "#%run train.py --content_dir /notebooks/wsh_final/data/asl_alphabet_train/asl_alphabet_train/del --style_dir /notebooks/wsh_final/data/asl_alphabet_train/asl_alphabet_train/space"
   ]
  },
  {
   "cell_type": "code",
   "execution_count": 86,
   "metadata": {},
   "outputs": [],
   "source": [
    "%run test.py --content_dir /notebooks/wsh_final/data/asl_alphabet_train/asl_alphabet_train/X --style_dir /notebooks/wsh_final/s_ --decoder experiments/Model_X.pth --output X_AdaIn/"
   ]
  },
  {
   "cell_type": "code",
   "execution_count": 87,
   "metadata": {},
   "outputs": [],
   "source": [
    "%run test.py --content_dir /notebooks/wsh_final/data/asl_alphabet_train/asl_alphabet_train/Y --style_dir /notebooks/wsh_final/s_ --decoder experiments/Model_Y.pth --output Y_AdaIn/"
   ]
  },
  {
   "cell_type": "code",
   "execution_count": 88,
   "metadata": {},
   "outputs": [],
   "source": [
    "%run test.py --content_dir /notebooks/wsh_final/data/asl_alphabet_train/asl_alphabet_train/Z --style_dir /notebooks/wsh_final/s_ --decoder experiments/Model_Z.pth --output Z_AdaIn/"
   ]
  },
  {
   "cell_type": "code",
   "execution_count": 89,
   "metadata": {},
   "outputs": [],
   "source": [
    "%run test.py --content_dir /notebooks/wsh_final/data/asl_alphabet_train/asl_alphabet_train/R --style_dir /notebooks/wsh_final/s_ --decoder experiments/Model_R.pth --output R_AdaIn/"
   ]
  },
  {
   "cell_type": "code",
   "execution_count": 90,
   "metadata": {},
   "outputs": [],
   "source": [
    "%run test.py --content_dir /notebooks/wsh_final/data/asl_alphabet_train/asl_alphabet_train/S --style_dir /notebooks/wsh_final/s_ --decoder experiments/Model_S.pth --output S_AdaIn/"
   ]
  },
  {
   "cell_type": "code",
   "execution_count": 91,
   "metadata": {},
   "outputs": [],
   "source": [
    "%run test.py --content_dir /notebooks/wsh_final/data/asl_alphabet_train/asl_alphabet_train/U --style_dir /notebooks/wsh_final/s_ --decoder experiments/Model_U.pth --output U_AdaIn/"
   ]
  },
  {
   "cell_type": "code",
   "execution_count": 92,
   "metadata": {},
   "outputs": [],
   "source": [
    "%run test.py --content_dir /notebooks/wsh_final/data/asl_alphabet_train/asl_alphabet_train/V --style_dir /notebooks/wsh_final/s_ --decoder experiments/Model_V.pth --output V_AdaIn/"
   ]
  },
  {
   "cell_type": "code",
   "execution_count": 93,
   "metadata": {},
   "outputs": [],
   "source": [
    "%run test.py --content_dir /notebooks/wsh_final/data/asl_alphabet_train/asl_alphabet_train/W --style_dir /notebooks/wsh_final/s_ --decoder experiments/Model_W.pth --output W_AdaIn/"
   ]
  },
  {
   "cell_type": "code",
   "execution_count": 94,
   "metadata": {},
   "outputs": [],
   "source": [
    "%run test.py --content_dir /notebooks/wsh_final/data/asl_alphabet_train/asl_alphabet_train/A --style_dir /notebooks/wsh_final/s_ --decoder experiments/Model_A.pth --output A_AdaIn/"
   ]
  },
  {
   "cell_type": "code",
   "execution_count": 95,
   "metadata": {},
   "outputs": [],
   "source": [
    "%run test.py --content_dir /notebooks/wsh_final/data/asl_alphabet_train/asl_alphabet_train/C --style_dir /notebooks/wsh_final/s_ --decoder experiments/Model_C.pth --output C_AdaIn/"
   ]
  },
  {
   "cell_type": "code",
   "execution_count": 96,
   "metadata": {},
   "outputs": [],
   "source": [
    "%run test.py --content_dir /notebooks/wsh_final/data/asl_alphabet_train/asl_alphabet_train/E --style_dir /notebooks/wsh_final/s_ --decoder experiments/Model_E.pth --output E_AdaIn/"
   ]
  },
  {
   "cell_type": "code",
   "execution_count": 97,
   "metadata": {},
   "outputs": [],
   "source": [
    "%run test.py --content_dir /notebooks/wsh_final/data/asl_alphabet_train/asl_alphabet_train/G --style_dir /notebooks/wsh_final/s_ --decoder experiments/Model_G.pth --output G_AdaIn/"
   ]
  },
  {
   "cell_type": "code",
   "execution_count": 98,
   "metadata": {},
   "outputs": [],
   "source": [
    "%run test.py --content_dir /notebooks/wsh_final/data/asl_alphabet_train/asl_alphabet_train/H --style_dir /notebooks/wsh_final/s_ --decoder experiments/Model_H.pth --output H_AdaIn/"
   ]
  },
  {
   "cell_type": "code",
   "execution_count": 99,
   "metadata": {},
   "outputs": [],
   "source": [
    "%run test.py --content_dir /notebooks/wsh_final/data/asl_alphabet_train/asl_alphabet_train/I --style_dir /notebooks/wsh_final/s_ --decoder experiments/Model_I.pth --output I_AdaIn/"
   ]
  },
  {
   "cell_type": "code",
   "execution_count": 100,
   "metadata": {},
   "outputs": [],
   "source": [
    "%run test.py --content_dir /notebooks/wsh_final/data/asl_alphabet_train/asl_alphabet_train/K --style_dir /notebooks/wsh_final/s_ --decoder experiments/Model_K.pth --output K_AdaIn/"
   ]
  },
  {
   "cell_type": "code",
   "execution_count": 101,
   "metadata": {},
   "outputs": [],
   "source": [
    "%run test.py --content_dir /notebooks/wsh_final/data/asl_alphabet_train/asl_alphabet_train/M --style_dir /notebooks/wsh_final/s_ --decoder experiments/Model_M.pth --output M_AdaIn/"
   ]
  },
  {
   "cell_type": "code",
   "execution_count": 102,
   "metadata": {},
   "outputs": [],
   "source": [
    "%run test.py --content_dir /notebooks/wsh_final/data/asl_alphabet_train/asl_alphabet_train/N --style_dir /notebooks/wsh_final/s_ --decoder experiments/Model_N.pth --output N_AdaIn/"
   ]
  },
  {
   "cell_type": "code",
   "execution_count": 103,
   "metadata": {},
   "outputs": [],
   "source": [
    "%run test.py --content_dir /notebooks/wsh_final/data/asl_alphabet_train/asl_alphabet_train/P --style_dir /notebooks/wsh_final/s_ --decoder experiments/Model_P.pth --output P_AdaIn/"
   ]
  },
  {
   "cell_type": "code",
   "execution_count": 104,
   "metadata": {},
   "outputs": [],
   "source": [
    "%run test.py --content_dir /notebooks/wsh_final/data/asl_alphabet_train/asl_alphabet_train/Q --style_dir /notebooks/wsh_final/s_ --decoder experiments/Model_Q.pth --output Q_AdaIn/"
   ]
  },
  {
   "cell_type": "code",
   "execution_count": null,
   "metadata": {},
   "outputs": [],
   "source": [
    "#%run test.py --content_dir input/WHOLE --style input/강희안"
   ]
  }
 ],
 "metadata": {
  "kernelspec": {
   "display_name": "Python 3",
   "language": "python",
   "name": "python3"
  },
  "language_info": {
   "codemirror_mode": {
    "name": "ipython",
    "version": 3
   },
   "file_extension": ".py",
   "mimetype": "text/x-python",
   "name": "python",
   "nbconvert_exporter": "python",
   "pygments_lexer": "ipython3",
   "version": "3.6.9"
  }
 },
 "nbformat": 4,
 "nbformat_minor": 4
}
